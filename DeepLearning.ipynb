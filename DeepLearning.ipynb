{
  "nbformat": 4,
  "nbformat_minor": 0,
  "metadata": {
    "colab": {
      "name": "DeepLearning.ipynb",
      "provenance": [],
      "authorship_tag": "ABX9TyP2J/zrNXMjXqQajC1pkhBX",
      "include_colab_link": true
    },
    "kernelspec": {
      "name": "python3",
      "display_name": "Python 3"
    },
    "language_info": {
      "name": "python"
    }
  },
  "cells": [
    {
      "cell_type": "markdown",
      "metadata": {
        "id": "view-in-github",
        "colab_type": "text"
      },
      "source": [
        "<a href=\"https://colab.research.google.com/github/DavidFrancoR/DeepLearning/blob/main/DeepLearning.ipynb\" target=\"_parent\"><img src=\"https://colab.research.google.com/assets/colab-badge.svg\" alt=\"Open In Colab\"/></a>"
      ]
    },
    {
      "cell_type": "code",
      "metadata": {
        "colab": {
          "base_uri": "https://localhost:8080/",
          "height": 222
        },
        "id": "jX3SNxekcqZ7",
        "outputId": "bd103795-b940-4875-dccb-6d603bfa695a"
      },
      "source": [
        "# Tensorflow\n",
        "# Keras\n",
        "# Redes Neurais\n",
        "\n",
        "# Glossário de Python\n",
        "\n",
        "# Exibir informações\n",
        "print(\"Hello, world!\")\n",
        "\n",
        "# Declarar uma variável\n",
        "numero = 20\n",
        "print(numero, type(numero))\n",
        "\n",
        "# Trabalhar com listas e exibir tipo das informações\n",
        "lista = [10, 20, 30]\n",
        "print(lista, type(lista))\n",
        "\n",
        "# Pegar elementos da lista\n",
        "elemento_da_lista = lista[0]\n",
        "print(elemento_da_lista, type(elemento_da_lista))\n",
        "\n",
        "# Mudar elementos da lista\n",
        "lista[1] = 99\n",
        "print(lista, type(lista), type(lista[1]))\n",
        "\n",
        "# Quantidade de elementos da lista\n",
        "quantidade_elementos = len(lista)\n",
        "print(\"Quantidade de elementos\", quantidade_elementos, type(quantidade_elementos))\n",
        "\n",
        "# Tupla\n",
        "tupla = (51, 62, 79)\n",
        "print(tupla, type(tupla))\n",
        "\n",
        "tupla2 = 99, 11, 13\n",
        "print(tupla2, type(tupla2))\n",
        "\n",
        "tupla3 = 10, 5\n",
        "print(tupla3, type(tupla3))\n",
        "\n",
        "# Acessando elementos da tupla\n",
        "elemento_da_tupla = tupla[0]\n",
        "print(elemento_da_tupla, type(elemento_da_tupla))\n",
        "\n",
        "# Tupla vs Lista?\n",
        "# Tuplas não podem ser modificadas\n",
        "# TypeError: 'tuple' object does not support item assignment\n",
        "# tupla[0] = 30\n",
        "\n",
        "# Atalho para comentar: Ctrl + /\n",
        "\n",
        "tupla4 = 9, 6, 3, 2\n",
        "print(tupla4, type(tupla4))\n",
        "\n",
        "\"\"\"\n",
        "tupla4_em_lista = list(tupla4)\n",
        "tupla4_em_lista[0] = 99\n",
        "tupla4_lista_em_tupla_novamente = tuple(tupla4_em_lista)\n",
        "print(tupla4_lista_em_tupla_novamente, type(tupla4_lista_em_tupla_novamente))\n",
        "\"\"\"\n",
        "\n",
        "# Comentários de uma linha\n",
        "\"\"\"\n",
        "Comentários\n",
        "de\n",
        "várias\n",
        "linhas\n",
        "\"\"\""
      ],
      "execution_count": 2,
      "outputs": [
        {
          "output_type": "stream",
          "text": [
            "Hello, world!\n",
            "20 <class 'int'>\n",
            "[10, 20, 30] <class 'list'>\n",
            "10 <class 'int'>\n",
            "[10, 99, 30] <class 'list'> <class 'int'>\n",
            "Quantidade de elementos 3 <class 'int'>\n",
            "(51, 62, 79) <class 'tuple'>\n",
            "(99, 11, 13) <class 'tuple'>\n",
            "(10, 5) <class 'tuple'>\n",
            "51 <class 'int'>\n",
            "(9, 6, 3, 2) <class 'tuple'>\n"
          ],
          "name": "stdout"
        },
        {
          "output_type": "execute_result",
          "data": {
            "application/vnd.google.colaboratory.intrinsic+json": {
              "type": "string"
            },
            "text/plain": [
              "'\\nComentários\\nde\\nvárias\\nlinhas\\n'"
            ]
          },
          "metadata": {
            "tags": []
          },
          "execution_count": 2
        }
      ]
    },
    {
      "cell_type": "code",
      "metadata": {
        "id": "aZwf1XtCjEDq"
      },
      "source": [
        "nome = \"David Franco\"\n",
        "\n",
        "contador = 0"
      ],
      "execution_count": 3,
      "outputs": []
    },
    {
      "cell_type": "code",
      "metadata": {
        "colab": {
          "base_uri": "https://localhost:8080/"
        },
        "id": "drFgzkhfi4g0",
        "outputId": "708a26ab-b325-434f-bce0-e26a9d2323fc"
      },
      "source": [
        "# Nova célula\n",
        "\n",
        "print(nome)\n",
        "\n",
        "contador = contador + 1\n",
        "print(f\"Esse nome foi exibido {contador} vez(es)!\")"
      ],
      "execution_count": 5,
      "outputs": [
        {
          "output_type": "stream",
          "text": [
            "David Franco\n",
            "Esse nome foi exibido 2 vez(es)!\n"
          ],
          "name": "stdout"
        }
      ]
    },
    {
      "cell_type": "code",
      "metadata": {
        "id": "Gn2AVQyYkYmS"
      },
      "source": [
        "# Importar Tensorflow, Keras e todas as ferramentas/bibliotecas que precisamos!\n",
        "\n",
        "from tensorflow import keras # Importa a biblioteca Keras\n",
        "from keras.datasets import mnist # Base de Dados MNIST - 60k imagens treino, 10k imagens teste\n",
        "from tensorflow.python.keras import Sequential # Arquitetura da nossa rede neural\n",
        "from tensorflow.python.keras.layers import Dense, Dropout # Neurônio (base da rede) e Regularizador (evita overfitting)\n",
        "from tensorflow.compat.v1.keras.optimizers import RMSprop # Otimizador (back propagation)"
      ],
      "execution_count": 6,
      "outputs": []
    },
    {
      "cell_type": "code",
      "metadata": {
        "colab": {
          "base_uri": "https://localhost:8080/"
        },
        "id": "afPtjKgenUfQ",
        "outputId": "8b1f47eb-ea67-4184-fae3-532487d34d37"
      },
      "source": [
        "(x_treino, y_treino), (x_teste, y_teste) = mnist.load_data()"
      ],
      "execution_count": 7,
      "outputs": [
        {
          "output_type": "stream",
          "text": [
            "Downloading data from https://storage.googleapis.com/tensorflow/tf-keras-datasets/mnist.npz\n",
            "11493376/11490434 [==============================] - 0s 0us/step\n",
            "11501568/11490434 [==============================] - 0s 0us/step\n"
          ],
          "name": "stdout"
        }
      ]
    }
  ]
}